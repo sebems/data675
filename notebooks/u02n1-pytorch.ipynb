{
  "cells": [
    {
      "cell_type": "markdown",
      "id": "5f5fe490",
      "metadata": {
        "id": "5f5fe490"
      },
      "source": [
        "# PyTorch Warmup"
      ]
    },
    {
      "cell_type": "markdown",
      "id": "269c6424",
      "metadata": {
        "id": "269c6424"
      },
      "source": [
        "[PyTorch](https://pytorch.org/) is the open-source machine learning framework that we'll be using in this class. It has a wide range of functionality; for now we'll just get started with some of its very basic array-processing functionality."
      ]
    },
    {
      "cell_type": "code",
      "execution_count": 2,
      "id": "ed00e346",
      "metadata": {
        "execution": {
          "iopub.execute_input": "2023-01-19T16:24:52.427258Z",
          "iopub.status.busy": "2023-01-19T16:24:52.426994Z",
          "iopub.status.idle": "2023-01-19T16:24:56.731553Z",
          "shell.execute_reply": "2023-01-19T16:24:56.730621Z"
        },
        "id": "ed00e346"
      },
      "outputs": [],
      "source": [
        "import torch\n",
        "import torch.nn as nn\n",
        "import torch.nn.functional as F"
      ]
    },
    {
      "cell_type": "markdown",
      "id": "e6c85264",
      "metadata": {
        "id": "e6c85264"
      },
      "source": [
        "## Dot Products\n",
        "\n",
        "The most common basic primitive in a neural network is a *linear* layer (you'll sometimes see it called a \"Dense\" layer). These are where almost all of the parameters go in a network. (Some architectures use a variant called a *convolutional* layer.) At its core, a linear layer does a bunch of *dot product*s between its *input* vector and its (learned) *weight* vectors.\n",
        "\n",
        "A few intuitions to understand what a dot product is:\n",
        "\n",
        "1. It measures *similarity*, in the sense of *alignment*. The following statements loosely capture it:\n",
        "    - \"How much does the input look like *this*?\"\n",
        "    - \"How big is the input in *this* direction?\"\n",
        "    - \"How aligned is the input with this direction?\"\n",
        "    - \"What's the cosine of the angle between the input vector and this vector?\"\n",
        "2. A bunch of dot products all together (like in a Linear layer) *rotates and stretches* the input space, like moving a camera around a scene.\n",
        "3. It's how a multiple linear regression computes its output: a weighted mixture of each part of its input.\n",
        "\n",
        "Recall that we can make a line by an expression like `y = w*x + b`. (Some of you may remember *mx+b* , but we'll use *w* for the *weight(s)* instead.)\n",
        "\n",
        "That's a multiplication followed by a sum. We can extend that to lots of *x*'s, each of which needs a corresponding *w*:\n",
        "\n",
        "`y = w1*x1 + w2*x2 + ... + wN*xN + b`\n",
        "\n",
        "For simplicity, let's ignore the `b` (\"bias\") for now (we'll bring it back later). So we're left with\n",
        "\n",
        "`y = w1*x1 + w2*x2 + ... + wN*xN`\n",
        "\n",
        "that is, multiply each number in `w` by its corresponding number in `x` and add up the results: `sum(w[i] * x[i] for i in range(N))`. Or, in mathematical notation: $\\sum_{i=1}^{N} w_i x_i.$\n",
        "\n",
        "The result is called a *dot product*, and is one of the fundamental operations in linear algebra. At this point you don't need to understand all the linear algebra part of this, we're just implementing a common calculation.\n",
        "\n",
        "Let's do that in pure Python, and then in PyTorch. To start, let's make an array for the weights (called `w`) and an array for the inputs (called `x`)."
      ]
    },
    {
      "cell_type": "code",
      "execution_count": 3,
      "id": "6d290d34",
      "metadata": {
        "execution": {
          "iopub.execute_input": "2023-01-19T16:24:56.735697Z",
          "iopub.status.busy": "2023-01-19T16:24:56.735286Z",
          "iopub.status.idle": "2023-01-19T16:24:56.780008Z",
          "shell.execute_reply": "2023-01-19T16:24:56.779490Z"
        },
        "colab": {
          "base_uri": "https://localhost:8080/"
        },
        "id": "6d290d34",
        "outputId": "2803b858-e87f-422e-ee54-29fec2dd2a66"
      },
      "outputs": [
        {
          "output_type": "execute_result",
          "data": {
            "text/plain": [
              "tensor([ 2., -1.])"
            ]
          },
          "metadata": {},
          "execution_count": 3
        }
      ],
      "source": [
        "w = torch.tensor([2.0, -1.0])\n",
        "w"
      ]
    },
    {
      "cell_type": "code",
      "execution_count": 4,
      "id": "2b9487b8",
      "metadata": {
        "execution": {
          "iopub.execute_input": "2023-01-19T16:24:56.782792Z",
          "iopub.status.busy": "2023-01-19T16:24:56.782584Z",
          "iopub.status.idle": "2023-01-19T16:24:56.787904Z",
          "shell.execute_reply": "2023-01-19T16:24:56.787450Z"
        },
        "colab": {
          "base_uri": "https://localhost:8080/"
        },
        "id": "2b9487b8",
        "outputId": "36780699-2720-40bb-cda3-b79c9b75d1e5"
      },
      "outputs": [
        {
          "output_type": "execute_result",
          "data": {
            "text/plain": [
              "tensor([ 1.5000, -3.0000])"
            ]
          },
          "metadata": {},
          "execution_count": 4
        }
      ],
      "source": [
        "x = torch.tensor([1.5, -3.0])\n",
        "x"
      ]
    },
    {
      "cell_type": "markdown",
      "id": "cbafdfed",
      "metadata": {
        "id": "cbafdfed"
      },
      "source": [
        "The shapes of `w` and `x` must match."
      ]
    },
    {
      "cell_type": "code",
      "execution_count": 5,
      "id": "6cbce88b",
      "metadata": {
        "execution": {
          "iopub.execute_input": "2023-01-19T16:24:56.790580Z",
          "iopub.status.busy": "2023-01-19T16:24:56.790363Z",
          "iopub.status.idle": "2023-01-19T16:24:56.793312Z",
          "shell.execute_reply": "2023-01-19T16:24:56.792745Z"
        },
        "id": "6cbce88b"
      },
      "outputs": [],
      "source": [
        "N = len(w)\n",
        "assert N == len(x)"
      ]
    },
    {
      "cell_type": "markdown",
      "id": "b38d0106",
      "metadata": {
        "id": "b38d0106"
      },
      "source": [
        "### `for` loop approach\n",
        "\n",
        "**Task**: *Write a function that uses a `for` loop* to compute the dot product of `w` and `x`. Name the function `dot_loop`. Check that you get `6.0` for the `w` and `x` provided in the template."
      ]
    },
    {
      "cell_type": "code",
      "execution_count": 6,
      "id": "c6255210",
      "metadata": {
        "execution": {
          "iopub.execute_input": "2023-01-19T16:24:56.796192Z",
          "iopub.status.busy": "2023-01-19T16:24:56.795961Z",
          "iopub.status.idle": "2023-01-19T16:24:56.803346Z",
          "shell.execute_reply": "2023-01-19T16:24:56.802712Z"
        },
        "colab": {
          "base_uri": "https://localhost:8080/"
        },
        "id": "c6255210",
        "outputId": "d47a2b57-d484-429f-a9ab-ff3bb12191e0"
      },
      "outputs": [
        {
          "output_type": "execute_result",
          "data": {
            "text/plain": [
              "tensor(6.)"
            ]
          },
          "metadata": {},
          "execution_count": 6
        }
      ],
      "source": [
        "def dot_loop(w, x):\n",
        "    total_sum = 0\n",
        "    for weight, input in zip(w, x):\n",
        "      total_sum += weight * input\n",
        "\n",
        "    return total_sum\n",
        "dot_loop(w, x)"
      ]
    },
    {
      "cell_type": "markdown",
      "id": "1013e06f",
      "metadata": {
        "id": "1013e06f"
      },
      "source": [
        "Here are some test cases that `dot_loop` should pass. You don't need to understand how this code works yet, but it would reward some study."
      ]
    },
    {
      "cell_type": "code",
      "execution_count": 7,
      "id": "07ebc015",
      "metadata": {
        "execution": {
          "iopub.execute_input": "2023-01-19T16:24:56.806585Z",
          "iopub.status.busy": "2023-01-19T16:24:56.806318Z",
          "iopub.status.idle": "2023-01-19T16:24:56.815200Z",
          "shell.execute_reply": "2023-01-19T16:24:56.814518Z"
        },
        "colab": {
          "base_uri": "https://localhost:8080/"
        },
        "id": "07ebc015",
        "outputId": "788da2b2-1ae0-4939-e59f-4dffac6d2eec"
      },
      "outputs": [
        {
          "output_type": "stream",
          "name": "stdout",
          "text": [
            "Testing dot_loop(tensor([0.]), tensor([500.]))\n",
            "Testing dot_loop(tensor([1., 0.]), tensor([50.0000,  0.5000]))\n",
            "Testing dot_loop(tensor([-1.,  1.]), tensor([-1.,  1.]))\n",
            "All tests passed\n"
          ]
        }
      ],
      "source": [
        "test_cases = [\n",
        "    ([0.], [500.], 0.0),\n",
        "    ([1., 0.0], [50.0, .5], 50.0),\n",
        "    ([-1.0, 1.0], [-1.0, 1.0], 2.0)\n",
        "]\n",
        "def run_dot_tests(f):\n",
        "    for w, x, prod in test_cases:\n",
        "        w = torch.tensor(w)\n",
        "        x = torch.tensor(x)\n",
        "        print(f\"Testing dot_loop({w}, {x})\")\n",
        "        result = f(w, x)\n",
        "        if not isinstance(result, torch.Tensor):\n",
        "            result = torch.tensor(result)\n",
        "        assert torch.isclose(\n",
        "            result,\n",
        "            torch.tensor(prod)\n",
        "        )\n",
        "    print(\"All tests passed\")\n",
        "run_dot_tests(dot_loop)"
      ]
    },
    {
      "cell_type": "markdown",
      "id": "04904d45",
      "metadata": {
        "id": "04904d45"
      },
      "source": [
        "#### Torch Elementwise Operations\n",
        "\n",
        "But that's a lot of typing for a concept that we're going to use very frequently. To shorten it (and make it run way faster too!), we'll start taking advantage of some of Torch's builtin functionality.\n",
        "\n",
        "First, we'll learn about *elementwise operations* (called *pointwise operations* in the [PyTorch docs](https://pytorch.org/docs/stable/torch.html#pointwise-ops)).\n",
        "\n",
        "If you try to `*` two Python lists together, you get a `TypeError` (how do you multiply lists??). But in PyTorch (and NumPy, which it's heavily based on), array operations happen *element-by-element* (sometimes called *elementwise*): to multiply two tensors that have the same shape, multiply each number in the first tensor with the corresponding number of the second tensor. The result is a new tensor of the same shape with all the elementwise products.\n",
        "\n",
        "**Task**: Predict what you'll get from running `w * x`. Then try it and compare with your prediction. (No need to write an explanation here.)"
      ]
    },
    {
      "cell_type": "code",
      "execution_count": 8,
      "id": "15630a32",
      "metadata": {
        "execution": {
          "iopub.execute_input": "2023-01-19T16:24:56.818224Z",
          "iopub.status.busy": "2023-01-19T16:24:56.817985Z",
          "iopub.status.idle": "2023-01-19T16:24:56.821272Z",
          "shell.execute_reply": "2023-01-19T16:24:56.820483Z"
        },
        "colab": {
          "base_uri": "https://localhost:8080/"
        },
        "id": "15630a32",
        "outputId": "579d6614-61fd-4850-84f0-36d0d6cdba08"
      },
      "outputs": [
        {
          "output_type": "stream",
          "name": "stdout",
          "text": [
            "[3.0, 3.0]\n"
          ]
        },
        {
          "output_type": "execute_result",
          "data": {
            "text/plain": [
              "tensor([3., 3.])"
            ]
          },
          "metadata": {},
          "execution_count": 8
        }
      ],
      "source": [
        "print([3.0, 3.0])\n",
        "w * x"
      ]
    },
    {
      "cell_type": "markdown",
      "id": "dfe4f5e7",
      "metadata": {
        "id": "dfe4f5e7"
      },
      "source": [
        "### Torch Reduction Ops\n",
        "\n",
        "Torch also provides [*reduction* methods](https://pytorch.org/docs/stable/torch.html#reduction-ops), so named because they *reduce* the number of elements in a Tensor.\n",
        "\n",
        "One really useful reduction op is `.sum`. (I also frequently use `.mean`, `.max`, and `.argmax`).\n",
        "\n",
        "**Task**: Predict the output of running `x.sum()` Then try it and compare with your prediction.\n",
        "\n",
        "> You can also write that as `torch.sum(x)`."
      ]
    },
    {
      "cell_type": "code",
      "execution_count": 11,
      "id": "ec476029",
      "metadata": {
        "execution": {
          "iopub.execute_input": "2023-01-19T16:24:56.823987Z",
          "iopub.status.busy": "2023-01-19T16:24:56.823763Z",
          "iopub.status.idle": "2023-01-19T16:24:56.826385Z",
          "shell.execute_reply": "2023-01-19T16:24:56.825843Z"
        },
        "id": "ec476029",
        "outputId": "117bffb2-bd14-48f4-965a-2af590541d7b",
        "colab": {
          "base_uri": "https://localhost:8080/"
        }
      },
      "outputs": [
        {
          "output_type": "stream",
          "name": "stdout",
          "text": [
            "[-1.5]\n"
          ]
        },
        {
          "output_type": "execute_result",
          "data": {
            "text/plain": [
              "tensor(-1.5000)"
            ]
          },
          "metadata": {},
          "execution_count": 11
        }
      ],
      "source": [
        "print([-1.5])\n",
        "x.sum()\n",
        "torch.sum(x)"
      ]
    },
    {
      "cell_type": "markdown",
      "id": "4c60f49e",
      "metadata": {
        "id": "4c60f49e"
      },
      "source": [
        "### Building a dot product out of Torch ops\n",
        "\n",
        "Now **make a new version of `dot_loop`, called `dot_ops`**, that uses an elementwise op to multiply corresponding numbers and a reduction op to sum the result. Check that the result still passes the tests. (*Don't use `@` yet.*)"
      ]
    },
    {
      "cell_type": "code",
      "execution_count": 17,
      "id": "c901a58b",
      "metadata": {
        "execution": {
          "iopub.execute_input": "2023-01-19T16:24:56.829092Z",
          "iopub.status.busy": "2023-01-19T16:24:56.828874Z",
          "iopub.status.idle": "2023-01-19T16:24:57.026469Z",
          "shell.execute_reply": "2023-01-19T16:24:57.025814Z"
        },
        "id": "c901a58b",
        "outputId": "3f14418e-79d0-4666-d353-34e131028090",
        "colab": {
          "base_uri": "https://localhost:8080/"
        }
      },
      "outputs": [
        {
          "output_type": "execute_result",
          "data": {
            "text/plain": [
              "tensor(6.)"
            ]
          },
          "metadata": {},
          "execution_count": 17
        }
      ],
      "source": [
        "def dot_ops(w, x):\n",
        "    return torch.sum(w * x)\n",
        "dot_ops(w, x)"
      ]
    },
    {
      "cell_type": "code",
      "execution_count": 14,
      "id": "aa79a42b",
      "metadata": {
        "execution": {
          "iopub.execute_input": "2023-01-19T16:24:57.029928Z",
          "iopub.status.busy": "2023-01-19T16:24:57.029651Z",
          "iopub.status.idle": "2023-01-19T16:24:57.033550Z",
          "shell.execute_reply": "2023-01-19T16:24:57.032846Z"
        },
        "id": "aa79a42b",
        "outputId": "7915385f-c5f7-4575-bb9b-5bb011a07cd8",
        "colab": {
          "base_uri": "https://localhost:8080/"
        }
      },
      "outputs": [
        {
          "output_type": "stream",
          "name": "stdout",
          "text": [
            "Testing dot_loop(tensor([0.]), tensor([500.]))\n",
            "Testing dot_loop(tensor([1., 0.]), tensor([50.0000,  0.5000]))\n",
            "Testing dot_loop(tensor([-1.,  1.]), tensor([-1.,  1.]))\n",
            "All tests passed\n"
          ]
        }
      ],
      "source": [
        "run_dot_tests(dot_ops)"
      ]
    },
    {
      "cell_type": "markdown",
      "id": "d123d0a3",
      "metadata": {
        "id": "d123d0a3"
      },
      "source": [
        "\n",
        "Finally, since `dot` is such an important operation, PyTorch provides it directly:\n",
        "\n",
        "```python\n",
        "torch.dot(w, x)\n",
        "```\n",
        "\n",
        "Python recently introduced a \"matmul operator\", `@`, that does the same thing.\n",
        "\n",
        "```python\n",
        "w @ x\n",
        "```\n",
        "\n",
        "To apply this knowledge, let's try writing a slightly more complex function: a linear transformation layer.\n"
      ]
    },
    {
      "cell_type": "markdown",
      "id": "45d7ad45",
      "metadata": {
        "id": "45d7ad45"
      },
      "source": [
        "## Linear Layer\n",
        "\n",
        "The most basic component of a neural network (and many other machine learning methods) is a *linear transformation layer*. Going back to our `y = w*x + b` example, the `w*x + b` is the linear transformation: given an `x`, dot it with some `w`eights and add a `b`ias.\n",
        "\n",
        "**Task**: **Write a function that performs a linear transformation of a vector `x`.** Use PyTorch's built-in functionality for dot products (`torch.dot()` or ` @`)."
      ]
    },
    {
      "cell_type": "code",
      "execution_count": 18,
      "id": "a5081a00",
      "metadata": {
        "execution": {
          "iopub.execute_input": "2023-01-19T16:24:57.037326Z",
          "iopub.status.busy": "2023-01-19T16:24:57.037003Z",
          "iopub.status.idle": "2023-01-19T16:24:57.042871Z",
          "shell.execute_reply": "2023-01-19T16:24:57.042174Z"
        },
        "id": "a5081a00",
        "outputId": "92455380-943e-446c-a67b-dbcac72e3583",
        "colab": {
          "base_uri": "https://localhost:8080/"
        }
      },
      "outputs": [
        {
          "output_type": "execute_result",
          "data": {
            "text/plain": [
              "tensor(2.)"
            ]
          },
          "metadata": {},
          "execution_count": 18
        }
      ],
      "source": [
        "def linear(weights, bias, x):\n",
        "    return weights @ x + bias\n",
        "linear(w, -4.0, x)"
      ]
    },
    {
      "cell_type": "code",
      "execution_count": 19,
      "id": "1688ede2",
      "metadata": {
        "execution": {
          "iopub.execute_input": "2023-01-19T16:24:57.046380Z",
          "iopub.status.busy": "2023-01-19T16:24:57.046084Z",
          "iopub.status.idle": "2023-01-19T16:24:57.050544Z",
          "shell.execute_reply": "2023-01-19T16:24:57.049806Z"
        },
        "id": "1688ede2"
      },
      "outputs": [],
      "source": [
        "assert torch.isclose(linear(w, -4.0, x), torch.tensor(2.0))\n",
        "assert torch.isclose(linear(w, 0.0, x), torch.tensor(6.0))"
      ]
    },
    {
      "cell_type": "markdown",
      "id": "330a305d",
      "metadata": {
        "id": "330a305d"
      },
      "source": [
        "\n",
        "\n",
        "### Linear layer, Module-style\n",
        "\n",
        "Notice that `linear`'s job is to transform `x`, but it needed 3 parameters, not just 1. It would be convenient to view the `linear` function as simply a function of `x`, with `weights` and `bias` being internal details.\n",
        "\n",
        "One way to do this is to make a `Linear` *class* that has these as parameters.\n",
        "\n",
        "**Task**: Fill in the blanks in the template code to do this. (This is roughly how PyTorch's implementation works)."
      ]
    },
    {
      "cell_type": "code",
      "execution_count": 20,
      "id": "13a28c6b",
      "metadata": {
        "execution": {
          "iopub.execute_input": "2023-01-19T16:24:57.053896Z",
          "iopub.status.busy": "2023-01-19T16:24:57.053629Z",
          "iopub.status.idle": "2023-01-19T16:24:57.059671Z",
          "shell.execute_reply": "2023-01-19T16:24:57.059001Z"
        },
        "id": "13a28c6b",
        "outputId": "79b1a806-26b5-4914-e495-d0eb8f59609b",
        "colab": {
          "base_uri": "https://localhost:8080/"
        }
      },
      "outputs": [
        {
          "output_type": "execute_result",
          "data": {
            "text/plain": [
              "tensor(7.)"
            ]
          },
          "metadata": {},
          "execution_count": 20
        }
      ],
      "source": [
        "class Linear:\n",
        "    def __init__(self, weights, bias):\n",
        "        self.weights = weights\n",
        "        self.bias = bias\n",
        "\n",
        "    def forward(self, x):\n",
        "        return self.weights @ x + self.bias\n",
        "\n",
        "layer = Linear(weights=w, bias=1.0)\n",
        "layer.forward(x)"
      ]
    },
    {
      "cell_type": "markdown",
      "id": "bfaabead",
      "metadata": {
        "id": "bfaabead"
      },
      "source": [
        "Note: PyTorch's [`Linear` layer](https://pytorch.org/docs/stable/generated/torch.nn.Linear.html#torch.nn.Linear) gives a vector-valued output, so to make the dimensionality work out, it actually computes `x @ weights.T + bias`, where `T` computes the transpose of the array."
      ]
    },
    {
      "cell_type": "markdown",
      "id": "9945a8ba",
      "metadata": {
        "id": "9945a8ba"
      },
      "source": [
        "\n",
        "## Mean Squared Error\n",
        "\n",
        "Now let's apply what you just learned about elementwise operations on PyTorch tensors to another very common building block in machine learning: measuring *error*.\n",
        "\n",
        "Once we make some predictions, we usually want to be able to measure how *good* the predictions were. For regression tasks, i.e., tasks where we're predicting *numbers*, one very common measure is the *mean squared error*. Here's an algorithm to compute it:\n",
        "\n",
        "- compute `resid` as true (`y_true`) minus predicted (`y_pred`).\n",
        "- compute `squared_error` by squaring each number in `resid`\n",
        "- compute `mean_squared_error` by taking the `mean` of `squared_error`.\n",
        "\n",
        "> **Technical note**: This process implements the mean squared error *loss function*. That is a function that is given some *true* values (call them $y_1$ through $y_n$) and some *predicted* values (call them $\\hat{y}_1$ through $\\hat{y}_n$) and returns $$\\text{MSE} = \\frac{1}{n}\\sum_{i=1}^{n}(y_i - \\hat{y}_i)^2.$$\n",
        "\n",
        "Generally you'd get the predicted values, `y_pred`, by calling a function that implements a model (like `linear.forward()` above. But to focus our attention on the error computation, we've provided sample values for `y_true` and `y_pred` that you can just use as-is."
      ]
    },
    {
      "cell_type": "code",
      "execution_count": 22,
      "id": "29d721c4",
      "metadata": {
        "execution": {
          "iopub.execute_input": "2023-01-19T16:24:57.062967Z",
          "iopub.status.busy": "2023-01-19T16:24:57.062716Z",
          "iopub.status.idle": "2023-01-19T16:24:57.066495Z",
          "shell.execute_reply": "2023-01-19T16:24:57.065778Z"
        },
        "id": "29d721c4"
      },
      "outputs": [],
      "source": [
        "y_true = torch.tensor([3.14, 1.59, 2.65])\n",
        "y_pred = torch.tensor([2.71, 8.28, 1.83])"
      ]
    },
    {
      "cell_type": "markdown",
      "id": "84ba9a5a",
      "metadata": {
        "id": "84ba9a5a"
      },
      "source": [
        "**Task**:\n",
        "\n",
        "1. Implement each line of the above algorithm in PyTorch code.\n",
        "    - Use separate cells so you can check the results along the way. For example, the first cell should have two lines, the first to assign (`resid = ...`) and the second to show the result (`resid`).\n",
        "    - **You should not need to write any loops.**\n",
        "    - Try using both `squared_error.mean()` and `torch.mean(squared_error)`.\n",
        "2. Now, write the entire computation in a single succinct expression (i.e., without having to create intermediate variables for `resid` and `squared_error`). Check that you get the same result.\n",
        "\n",
        "> Notes:\n",
        ">\n",
        "> - Recall that Python's exponentiation operator is `**`.\n",
        "> - PyTorch tensors also have a `.pow()` method. So you can also use `.pow(2)`; you might see this in other people's code.\n"
      ]
    },
    {
      "cell_type": "code",
      "execution_count": 23,
      "id": "e6d26857",
      "metadata": {
        "execution": {
          "iopub.execute_input": "2023-01-19T16:24:57.070093Z",
          "iopub.status.busy": "2023-01-19T16:24:57.069756Z",
          "iopub.status.idle": "2023-01-19T16:24:57.075437Z",
          "shell.execute_reply": "2023-01-19T16:24:57.074615Z"
        },
        "id": "e6d26857",
        "outputId": "4d2056e0-7d1f-412c-994a-719cb0245090",
        "colab": {
          "base_uri": "https://localhost:8080/"
        }
      },
      "outputs": [
        {
          "output_type": "execute_result",
          "data": {
            "text/plain": [
              "tensor([ 0.4300, -6.6900,  0.8200])"
            ]
          },
          "metadata": {},
          "execution_count": 23
        }
      ],
      "source": [
        "resid = y_true - y_pred\n",
        "resid"
      ]
    },
    {
      "cell_type": "code",
      "execution_count": 24,
      "id": "2cc2b1bf",
      "metadata": {
        "execution": {
          "iopub.execute_input": "2023-01-19T16:24:57.078512Z",
          "iopub.status.busy": "2023-01-19T16:24:57.078244Z",
          "iopub.status.idle": "2023-01-19T16:24:57.084537Z",
          "shell.execute_reply": "2023-01-19T16:24:57.083887Z"
        },
        "id": "2cc2b1bf",
        "outputId": "ec1de245-3227-48be-c62b-98493d373638",
        "colab": {
          "base_uri": "https://localhost:8080/"
        }
      },
      "outputs": [
        {
          "output_type": "execute_result",
          "data": {
            "text/plain": [
              "tensor([ 0.1849, 44.7561,  0.6724])"
            ]
          },
          "metadata": {},
          "execution_count": 24
        }
      ],
      "source": [
        "squared_error = resid ** 2\n",
        "squared_error"
      ]
    },
    {
      "cell_type": "code",
      "execution_count": 26,
      "id": "58a5818c",
      "metadata": {
        "execution": {
          "iopub.execute_input": "2023-01-19T16:24:57.087575Z",
          "iopub.status.busy": "2023-01-19T16:24:57.087328Z",
          "iopub.status.idle": "2023-01-19T16:24:57.093384Z",
          "shell.execute_reply": "2023-01-19T16:24:57.092778Z"
        },
        "id": "58a5818c",
        "outputId": "d822f522-6b43-4599-d4c8-e0700e89dba3",
        "colab": {
          "base_uri": "https://localhost:8080/"
        }
      },
      "outputs": [
        {
          "output_type": "execute_result",
          "data": {
            "text/plain": [
              "tensor(15.2045)"
            ]
          },
          "metadata": {},
          "execution_count": 26
        }
      ],
      "source": [
        "# your code here to compute MSE from squared_error\n",
        "torch.mean(squared_error) # same as squared_error.mean()"
      ]
    },
    {
      "cell_type": "code",
      "execution_count": 27,
      "id": "e2653000",
      "metadata": {
        "execution": {
          "iopub.execute_input": "2023-01-19T16:24:57.096182Z",
          "iopub.status.busy": "2023-01-19T16:24:57.095953Z",
          "iopub.status.idle": "2023-01-19T16:24:57.100309Z",
          "shell.execute_reply": "2023-01-19T16:24:57.099701Z"
        },
        "id": "e2653000",
        "outputId": "ae6b0020-8911-492d-b1fb-18c20902b976",
        "colab": {
          "base_uri": "https://localhost:8080/"
        }
      },
      "outputs": [
        {
          "output_type": "execute_result",
          "data": {
            "text/plain": [
              "tensor(15.2045)"
            ]
          },
          "metadata": {},
          "execution_count": 27
        }
      ],
      "source": [
        "# your code here to do the whole thing in one line\n",
        "mse = lambda ytrue, ypred: ((ytrue - ypred)**2).mean()\n",
        "mse(y_true, y_pred)"
      ]
    },
    {
      "cell_type": "markdown",
      "id": "71982159",
      "metadata": {
        "id": "71982159"
      },
      "source": [
        "## Multidimensional arrays\n",
        "\n",
        "NumPy / PyTorch arrays can have more than one axis. Think of these like lists of lists (of lists of lists of ...)."
      ]
    },
    {
      "cell_type": "code",
      "execution_count": 28,
      "id": "95f5a3d0",
      "metadata": {
        "id": "95f5a3d0",
        "outputId": "e81d9305-9940-4b60-c721-7081a1716d0a",
        "colab": {
          "base_uri": "https://localhost:8080/"
        }
      },
      "outputs": [
        {
          "output_type": "execute_result",
          "data": {
            "text/plain": [
              "tensor([[0.0290, 0.4019],\n",
              "        [0.2598, 0.3666],\n",
              "        [0.0583, 0.7006],\n",
              "        [0.0518, 0.4681]])"
            ]
          },
          "metadata": {},
          "execution_count": 28
        }
      ],
      "source": [
        "torch.manual_seed(1234)\n",
        "x = torch.rand(4, 2)\n",
        "x"
      ]
    },
    {
      "cell_type": "markdown",
      "id": "6cd3d58f",
      "metadata": {
        "id": "6cd3d58f"
      },
      "source": [
        "**Task**: Use *indexing* to get out the top-left number, the top-right number, the bottom-left, and the bottom-right. One of them is done for you; study how that works."
      ]
    },
    {
      "cell_type": "code",
      "execution_count": 29,
      "id": "58de579e",
      "metadata": {
        "id": "58de579e",
        "outputId": "233894c6-533a-4e06-a46b-d641111f31bc",
        "colab": {
          "base_uri": "https://localhost:8080/"
        }
      },
      "outputs": [
        {
          "output_type": "execute_result",
          "data": {
            "text/plain": [
              "tensor(0.4681)"
            ]
          },
          "metadata": {},
          "execution_count": 29
        }
      ],
      "source": [
        "bottom_right = x[-1, -1]\n",
        "assert bottom_right == x[3, 1] and bottom_right == x[3][-1]\n",
        "bottom_right"
      ]
    },
    {
      "cell_type": "code",
      "execution_count": 30,
      "id": "5c9960e6",
      "metadata": {
        "id": "5c9960e6",
        "outputId": "8e09db62-8ea7-45a7-f7f2-7b12a12b2a7a",
        "colab": {
          "base_uri": "https://localhost:8080/"
        }
      },
      "outputs": [
        {
          "output_type": "stream",
          "name": "stdout",
          "text": [
            "Top-Left: 0.03, Top-Right: 0.40, Bottom-Left: 0.05\n"
          ]
        }
      ],
      "source": [
        "top_left = x[0, 0]\n",
        "top_right = x[0, -1]\n",
        "bottom_left = x[-1, 0]\n",
        "print(f\"Top-Left: {top_left:.2f}, Top-Right: {top_right:.2f}, Bottom-Left: {bottom_left:.2f}\")"
      ]
    },
    {
      "cell_type": "markdown",
      "id": "503be827",
      "metadata": {
        "id": "503be827"
      },
      "source": [
        "We can apply a reduction operation \"along\" an axis, e.g.,"
      ]
    },
    {
      "cell_type": "code",
      "execution_count": null,
      "id": "862b8297",
      "metadata": {
        "id": "862b8297",
        "outputId": "e2b831c6-8266-4d12-93a6-b93474b3d787"
      },
      "outputs": [
        {
          "data": {
            "text/plain": [
              "tensor([0.4309, 0.6265, 0.7589, 0.5199])"
            ]
          },
          "execution_count": 22,
          "metadata": {},
          "output_type": "execute_result"
        }
      ],
      "source": [
        "x.sum(axis=1)"
      ]
    },
    {
      "cell_type": "markdown",
      "id": "0baf7dde",
      "metadata": {
        "id": "0baf7dde"
      },
      "source": [
        "*Task*: Is summing on `axis=1` summing each row or summing each column?"
      ]
    },
    {
      "cell_type": "markdown",
      "id": "277aee1d",
      "metadata": {
        "id": "277aee1d"
      },
      "source": [
        "*Each column is being summed*"
      ]
    },
    {
      "cell_type": "markdown",
      "id": "32cf35f7",
      "metadata": {
        "id": "32cf35f7"
      },
      "source": [
        "There's a general rule for what happens when you reduce along an axis: that axis \"goes away\". To think about that rule and its implications, try the following exercise:\n",
        "\n",
        "**Task**: Predict what the `.shape` of each of the following operations will be. Then try each one and check if you were correct. For example, for the first operation, `z.mean(axis=0)`, the shape should be `(6, 7)`; check that it's true and make sure you can explain why (but you don't have to write up that explanation here)."
      ]
    },
    {
      "cell_type": "code",
      "execution_count": 35,
      "id": "fd556064",
      "metadata": {
        "id": "fd556064",
        "outputId": "d10a470f-d902-455f-daf6-77e4ba21b242",
        "colab": {
          "base_uri": "https://localhost:8080/"
        }
      },
      "outputs": [
        {
          "output_type": "stream",
          "name": "stdout",
          "text": [
            "z.shape is torch.Size([5, 6, 7])\n",
            "z.mean(axis=0).shape is torch.Size([6, 7])\n"
          ]
        },
        {
          "output_type": "execute_result",
          "data": {
            "text/plain": [
              "torch.Size([6])"
            ]
          },
          "metadata": {},
          "execution_count": 35
        }
      ],
      "source": [
        "z = torch.rand(5, 6, 7)\n",
        "print(f\"z.shape is {z.shape}\")\n",
        "\n",
        "print(f\"z.mean(axis=0).shape is {z.mean(axis=0).shape}\")\n",
        "# z.mean(axis=1).shape\n",
        "# z.mean(axis=2).shape\n",
        "# z.mean(axis=-1).shape\n",
        "# Note: indexing is kind of like a reduction operation\n",
        "# z[0]\n",
        "# z[1].mean(axis=1).shape\n"
      ]
    },
    {
      "cell_type": "markdown",
      "id": "ede2a19b",
      "metadata": {
        "id": "ede2a19b"
      },
      "source": [
        "Finally, the tensor product is a reduction operation that happens between two arrays / tensors. It reduces \"along\" the middle axis.\n",
        "\n",
        "**Task**: Try to find several different shapes that make the following code succeed. Nothing to \"turn in\" here, though."
      ]
    },
    {
      "cell_type": "code",
      "execution_count": 36,
      "id": "5079b5cd",
      "metadata": {
        "id": "5079b5cd",
        "outputId": "81810b91-30c3-4ba6-cfcd-8bbb5dd84467",
        "colab": {
          "base_uri": "https://localhost:8080/"
        }
      },
      "outputs": [
        {
          "output_type": "execute_result",
          "data": {
            "text/plain": [
              "torch.Size([2, 3, 2])"
            ]
          },
          "metadata": {},
          "execution_count": 36
        }
      ],
      "source": [
        "shape1 = (2, 3, 4) # try to find examples with 1, 2, or 3 different numbers here.\n",
        "shape2 = (4, 2) # try to find examples with 1, 2, or 3 different numbers here.\n",
        "x = torch.rand(shape1)\n",
        "y = torch.rand(shape2)\n",
        "(x @ y).shape"
      ]
    },
    {
      "cell_type": "markdown",
      "id": "0906eb6c",
      "metadata": {
        "id": "0906eb6c"
      },
      "source": [
        "## Appendix\n",
        "\n",
        "For comparison and future reference, here's PyTorch's internal implementation of MSE loss. There are two ways to access it: the [functional style](https://pytorch.org/docs/stable/generated/torch.nn.functional.mse_loss.html#torch.nn.functional.mse_loss)..."
      ]
    },
    {
      "cell_type": "code",
      "execution_count": 38,
      "id": "f7cb5f99",
      "metadata": {
        "execution": {
          "iopub.execute_input": "2023-01-19T16:24:57.103378Z",
          "iopub.status.busy": "2023-01-19T16:24:57.103110Z",
          "iopub.status.idle": "2023-01-19T16:24:57.110528Z",
          "shell.execute_reply": "2023-01-19T16:24:57.109994Z"
        },
        "id": "f7cb5f99",
        "outputId": "424ee01e-be53-4066-c7f4-0bbfe518a657",
        "colab": {
          "base_uri": "https://localhost:8080/"
        }
      },
      "outputs": [
        {
          "output_type": "execute_result",
          "data": {
            "text/plain": [
              "tensor(15.2045)"
            ]
          },
          "metadata": {},
          "execution_count": 38
        }
      ],
      "source": [
        "F.mse_loss(y_pred, y_true)"
      ]
    },
    {
      "cell_type": "markdown",
      "id": "72c247fa",
      "metadata": {
        "id": "72c247fa"
      },
      "source": [
        "and the [module style](https://pytorch.org/docs/stable/generated/torch.nn.MSELoss.html#torch.nn.MSELoss):"
      ]
    },
    {
      "cell_type": "code",
      "execution_count": 37,
      "id": "e185b825",
      "metadata": {
        "execution": {
          "iopub.execute_input": "2023-01-19T16:24:57.113327Z",
          "iopub.status.busy": "2023-01-19T16:24:57.113097Z",
          "iopub.status.idle": "2023-01-19T16:24:57.117794Z",
          "shell.execute_reply": "2023-01-19T16:24:57.117231Z"
        },
        "id": "e185b825",
        "outputId": "6a52513b-6f52-470d-e488-0caa2a2db779",
        "colab": {
          "base_uri": "https://localhost:8080/"
        }
      },
      "outputs": [
        {
          "output_type": "execute_result",
          "data": {
            "text/plain": [
              "tensor(15.2045)"
            ]
          },
          "metadata": {},
          "execution_count": 37
        }
      ],
      "source": [
        "loss_fn = nn.MSELoss()\n",
        "loss_fn(y_pred, y_true)"
      ]
    }
  ],
  "metadata": {
    "kernelspec": {
      "display_name": "Python 3",
      "language": "python",
      "name": "python3"
    },
    "language_info": {
      "codemirror_mode": {
        "name": "ipython",
        "version": 3
      },
      "file_extension": ".py",
      "mimetype": "text/x-python",
      "name": "python",
      "nbconvert_exporter": "python",
      "pygments_lexer": "ipython3",
      "version": "3.10.13"
    },
    "colab": {
      "provenance": []
    }
  },
  "nbformat": 4,
  "nbformat_minor": 5
}